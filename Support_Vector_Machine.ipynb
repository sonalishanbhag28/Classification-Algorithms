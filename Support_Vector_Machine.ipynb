{
  "nbformat": 4,
  "nbformat_minor": 0,
  "metadata": {
    "colab": {
      "name": "Support Vector Machine",
      "provenance": [],
      "collapsed_sections": []
    },
    "kernelspec": {
      "name": "python3",
      "display_name": "Python 3"
    },
    "language_info": {
      "name": "python"
    }
  },
  "cells": [
    {
      "cell_type": "markdown",
      "source": [
        "#Experiment 3: Linear and Non-Linear Support Vector Machine\n",
        "\n",
        "Sonali Shripad Shanbhag\n",
        "(19BDS0114)"
      ],
      "metadata": {
        "id": "gkBMyzimADZv"
      }
    },
    {
      "cell_type": "markdown",
      "source": [
        "**Aim: To implement classification using Support Vector Machine for both linear and non-linear.**"
      ],
      "metadata": {
        "id": "ql5w3iivNsfj"
      }
    },
    {
      "cell_type": "code",
      "execution_count": null,
      "metadata": {
        "id": "oBeXPGsJ4mlg"
      },
      "outputs": [],
      "source": [
        "import numpy as np \n",
        "import pandas as pd \n",
        "import matplotlib.pyplot as plt \n",
        "import seaborn as sns \n",
        "from sklearn.model_selection import train_test_split\n",
        "from sklearn.preprocessing import StandardScaler\n",
        "from sklearn.svm import SVC\n",
        "from sklearn.metrics import accuracy_score\n",
        "import warnings\n",
        "from sklearn.metrics import classification_report\n",
        "from sklearn.metrics import confusion_matrix\n",
        "warnings.filterwarnings('ignore')"
      ]
    },
    {
      "cell_type": "code",
      "source": [
        "data = pd.read_csv(\"/content/bank_data.csv\")\n",
        "data=data.dropna()"
      ],
      "metadata": {
        "id": "MBRAAiT25ZVX"
      },
      "execution_count": null,
      "outputs": []
    },
    {
      "cell_type": "code",
      "source": [
        "x = data.drop(['CreditCard'], axis=1)\n",
        "y = data['CreditCard']"
      ],
      "metadata": {
        "id": "bMk8fLg95lrN"
      },
      "execution_count": null,
      "outputs": []
    },
    {
      "cell_type": "code",
      "source": [
        "x_train, x_test, y_train, y_test = train_test_split(x, y, test_size = 0.3, random_state = 100)\n",
        "columns = x_train.columns"
      ],
      "metadata": {
        "id": "CgQx5Q1n7A_l"
      },
      "execution_count": null,
      "outputs": []
    },
    {
      "cell_type": "code",
      "source": [
        "print(\"X Train: \", x_train.shape)\n",
        "print(\"X Test: \", x_test.shape)\n",
        "print(\"Y Train: \", y_train.shape)\n",
        "print(\"Y Test: \", y_test.shape)"
      ],
      "metadata": {
        "colab": {
          "base_uri": "https://localhost:8080/"
        },
        "id": "6FXhX5nf7JVA",
        "outputId": "cf03bf9e-9c83-468d-f156-4dc756483fe6"
      },
      "execution_count": null,
      "outputs": [
        {
          "output_type": "stream",
          "name": "stdout",
          "text": [
            "X Train:  (3500, 13)\n",
            "X Test:  (1500, 13)\n",
            "Y Train:  (3500,)\n",
            "Y Test:  (1500,)\n"
          ]
        }
      ]
    },
    {
      "cell_type": "code",
      "source": [
        "scaler = StandardScaler()\n",
        "x_train = scaler.fit_transform(x_train)\n",
        "x_test = scaler.transform(x_test)"
      ],
      "metadata": {
        "id": "FIT87d8N7lor"
      },
      "execution_count": null,
      "outputs": []
    },
    {
      "cell_type": "code",
      "source": [
        "x_train = pd.DataFrame(x_train, columns=[columns])\n",
        "x_test = pd.DataFrame(x_test, columns=[columns])"
      ],
      "metadata": {
        "id": "7xJ-ysRB8NYz"
      },
      "execution_count": null,
      "outputs": []
    },
    {
      "cell_type": "markdown",
      "source": [
        "#### Non-Linear SVM"
      ],
      "metadata": {
        "id": "8R6ZomReBKIa"
      }
    },
    {
      "cell_type": "code",
      "source": [
        "svc=SVC(C=10.0) \n",
        "svc.fit(x_train,y_train)\n",
        "y_pred_nonlinear=svc.predict(x_test)\n",
        "print('Model Accuracy with Non-Linear (RBF) Kernel: ', (accuracy_score(y_test, y_pred_nonlinear)*100), '%')"
      ],
      "metadata": {
        "colab": {
          "base_uri": "https://localhost:8080/"
        },
        "id": "dFrnzARp9Ycp",
        "outputId": "d0352b9e-ece8-4eb7-b8d6-632940f74755"
      },
      "execution_count": null,
      "outputs": [
        {
          "output_type": "stream",
          "name": "stdout",
          "text": [
            "Model Accuracy with Non-Linear (RBF) Kernel:  74.6 %\n"
          ]
        }
      ]
    },
    {
      "cell_type": "code",
      "source": [
        "print(\"RESULT\\n\", classification_report(y_test, y_pred_nonlinear))\n",
        "nl_cm = confusion_matrix(y_test, y_pred_nonlinear)\n",
        "print(\"Confusion Matrix: \\n\",nl_cm)"
      ],
      "metadata": {
        "colab": {
          "base_uri": "https://localhost:8080/"
        },
        "id": "T2J1JdTRBUXW",
        "outputId": "d9e8d322-dfbb-4086-e758-268ce35c09bc"
      },
      "execution_count": null,
      "outputs": [
        {
          "output_type": "stream",
          "name": "stdout",
          "text": [
            "RESULT\n",
            "               precision    recall  f1-score   support\n",
            "\n",
            "           0       0.75      0.97      0.85      1080\n",
            "           1       0.69      0.17      0.27       420\n",
            "\n",
            "    accuracy                           0.75      1500\n",
            "   macro avg       0.72      0.57      0.56      1500\n",
            "weighted avg       0.73      0.75      0.68      1500\n",
            "\n",
            "Confusion Matrix: \n",
            " [[1049   31]\n",
            " [ 350   70]]\n"
          ]
        }
      ]
    },
    {
      "cell_type": "markdown",
      "source": [
        "#### Linear SVM"
      ],
      "metadata": {
        "id": "uVLrA4D1BQj4"
      }
    },
    {
      "cell_type": "code",
      "source": [
        "linear_svc=SVC(kernel='linear', C=10.0) \n",
        "linear_svc.fit(x_train,y_train)\n",
        "y_pred_linear=linear_svc.predict(x_test)\n",
        "print('Model Accuracy with Linear Kernel: ', (accuracy_score(y_test, y_pred_linear)*100), '%')"
      ],
      "metadata": {
        "colab": {
          "base_uri": "https://localhost:8080/"
        },
        "id": "ysIKokCj8WUb",
        "outputId": "bba302e9-2026-4c44-d9ad-2bbc8bb1f777"
      },
      "execution_count": null,
      "outputs": [
        {
          "output_type": "stream",
          "name": "stdout",
          "text": [
            "Model Accuracy with Linear Kernel:  76.13333333333333 %\n"
          ]
        }
      ]
    },
    {
      "cell_type": "code",
      "source": [
        "print(\"RESULT\\n\", classification_report(y_test, y_pred_linear))\n",
        "l_cm = confusion_matrix(y_test, y_pred_linear)\n",
        "print(\"Confusion Matrix: \\n\",l_cm)"
      ],
      "metadata": {
        "colab": {
          "base_uri": "https://localhost:8080/"
        },
        "id": "XPa8b3rl-Y2W",
        "outputId": "8380dd13-b0b5-4d3a-b5ef-9fd85f0b7acf"
      },
      "execution_count": null,
      "outputs": [
        {
          "output_type": "stream",
          "name": "stdout",
          "text": [
            "RESULT\n",
            "               precision    recall  f1-score   support\n",
            "\n",
            "           0       0.76      0.98      0.86      1080\n",
            "           1       0.81      0.19      0.31       420\n",
            "\n",
            "    accuracy                           0.76      1500\n",
            "   macro avg       0.78      0.59      0.58      1500\n",
            "weighted avg       0.77      0.76      0.70      1500\n",
            "\n",
            "Confusion Matrix: \n",
            " [[1061   19]\n",
            " [ 339   81]]\n"
          ]
        }
      ]
    }
  ]
}