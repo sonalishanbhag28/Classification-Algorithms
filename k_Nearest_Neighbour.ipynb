{
  "nbformat": 4,
  "nbformat_minor": 0,
  "metadata": {
    "colab": {
      "name": "k-Nearest Neighbour",
      "provenance": []
    },
    "kernelspec": {
      "name": "python3",
      "display_name": "Python 3"
    },
    "language_info": {
      "name": "python"
    }
  },
  "cells": [
    {
      "cell_type": "markdown",
      "source": [
        "#Experiment 4: k-Nearest Neighbour Algorithm\n",
        "\n",
        "Sonali Shripad Shanbhag 19BDS0114"
      ],
      "metadata": {
        "id": "5o9PcEfCCZQz"
      }
    },
    {
      "cell_type": "markdown",
      "source": [
        "**Aim: To implement k-Nearest Neighbour algorithm to classify the iris dataset and print both correct and wrong predictions. (Python ML library classes can be used for this problem)**"
      ],
      "metadata": {
        "id": "8JMMEsnvN5wH"
      }
    },
    {
      "cell_type": "code",
      "execution_count": null,
      "metadata": {
        "id": "XZu1OhWKCDtg"
      },
      "outputs": [],
      "source": [
        "from sklearn import datasets\n",
        "import numpy as np\n",
        "import random\n",
        "import matplotlib.pyplot as plt\n",
        "from sklearn.model_selection import train_test_split\n",
        "from sklearn.metrics import classification_report\n",
        "from sklearn.metrics import confusion_matrix\n",
        "from sklearn.neighbors import KNeighborsClassifier"
      ]
    },
    {
      "cell_type": "code",
      "source": [
        "iris = datasets.load_iris()\n",
        "x = iris.data[:, 0:2]\n",
        "y = iris.target"
      ],
      "metadata": {
        "id": "nXAmkXiqDFBf"
      },
      "execution_count": null,
      "outputs": []
    },
    {
      "cell_type": "code",
      "source": [
        "x_train, x_test, y_train, y_test = train_test_split(x, y, test_size = 0.3, random_state = 100)"
      ],
      "metadata": {
        "id": "ZM_ZCjEPEWbv"
      },
      "execution_count": null,
      "outputs": []
    },
    {
      "cell_type": "markdown",
      "source": [
        "#### kNN using in-built function from Sci-Kit Learn"
      ],
      "metadata": {
        "id": "8vO-cEdsFBXT"
      }
    },
    {
      "cell_type": "code",
      "source": [
        "knn = KNeighborsClassifier(n_neighbors = 8)\n",
        "knn.fit(x_train, y_train)\n",
        "y_pred = knn.predict(x_test)\n",
        "print(\"Accuracy: \")\n",
        "print(100 * np.mean(y_pred == y_test), \"%\")"
      ],
      "metadata": {
        "colab": {
          "base_uri": "https://localhost:8080/"
        },
        "id": "2AH1SZSlDSbW",
        "outputId": "a990db09-4f39-4b31-b92d-47735b433c35"
      },
      "execution_count": null,
      "outputs": [
        {
          "output_type": "stream",
          "name": "stdout",
          "text": [
            "Accuracy: \n",
            "84.44444444444444 %\n"
          ]
        }
      ]
    },
    {
      "cell_type": "code",
      "source": [
        "print(\"RESULT\\n\", classification_report(y_test, y_pred))\n",
        "cm = confusion_matrix(y_test, y_pred)\n",
        "print(\"Confusion Matrix: \\n\",cm)"
      ],
      "metadata": {
        "colab": {
          "base_uri": "https://localhost:8080/"
        },
        "id": "1ySOYsCOEtf2",
        "outputId": "19608331-9bce-40a4-ec5a-f1c8e340eee9"
      },
      "execution_count": null,
      "outputs": [
        {
          "output_type": "stream",
          "name": "stdout",
          "text": [
            "RESULT\n",
            "               precision    recall  f1-score   support\n",
            "\n",
            "           0       1.00      0.94      0.97        16\n",
            "           1       0.62      0.91      0.74        11\n",
            "           2       0.93      0.72      0.81        18\n",
            "\n",
            "    accuracy                           0.84        45\n",
            "   macro avg       0.85      0.86      0.84        45\n",
            "weighted avg       0.88      0.84      0.85        45\n",
            "\n",
            "Confusion Matrix: \n",
            " [[15  1  0]\n",
            " [ 0 10  1]\n",
            " [ 0  5 13]]\n"
          ]
        }
      ]
    }
  ]
}